{
 "cells": [
  {
   "cell_type": "code",
   "execution_count": null,
   "id": "3d454c6a",
   "metadata": {},
   "outputs": [],
   "source": [
    "import congressionalrecord\n",
    "from congressionalrecord.govinfo.downloader import Downloader\n",
    "\n",
    "import logging\n",
    "import sys\n",
    "logger=logging.getLogger()\n",
    "logger.addHandler(logging.StreamHandler(sys.stdout))\n",
    "logger.setLevel(logging.INFO)\n"
   ]
  },
  {
   "cell_type": "code",
   "execution_count": null,
   "id": "8cf4bfd5",
   "metadata": {
    "scrolled": false
   },
   "outputs": [],
   "source": [
    "start_date = '2015-01-01'\n",
    "end_date   = '2021-10-31'\n",
    "Downloader(start_date, end=end_date, do_mode='json', outpath='output')\n",
    "\n"
   ]
  }
 ],
 "metadata": {
  "kernelspec": {
   "display_name": "Python 3",
   "language": "python",
   "name": "python3"
  },
  "language_info": {
   "codemirror_mode": {
    "name": "ipython",
    "version": 3
   },
   "file_extension": ".py",
   "mimetype": "text/x-python",
   "name": "python",
   "nbconvert_exporter": "python",
   "pygments_lexer": "ipython3",
   "version": "3.6.13"
  }
 },
 "nbformat": 4,
 "nbformat_minor": 5
}
