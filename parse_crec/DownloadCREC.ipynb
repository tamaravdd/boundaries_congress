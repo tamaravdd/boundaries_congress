{
 "cells": [
  {
   "cell_type": "markdown",
   "id": "5bb2d63d",
   "metadata": {},
   "source": [
    "# Download CREC data\n",
    "\n",
    "This script uses `congressional-record` package from https://github.com/artemyk/congressional-record/archive/refs/heads/master.zip .\n",
    "\n",
    "It will save downloaded files into directories like\n",
    "``/mnt/data/recent-data/output/2015/CREC-2015-01-20/``\n",
    "It will detect already downloaded data, and will not try to download it again.\n",
    "\n",
    "**Importantly**, this script should be run several times in a row. The CREC website has intermittent errors, resulting in random failed downloads for some days. By running this script several times, it will detect those\n",
    "days that do not have downloaded data, and will retry downloading them.\n"
   ]
  },
  {
   "cell_type": "code",
   "execution_count": null,
   "id": "3d454c6a",
   "metadata": {},
   "outputs": [],
   "source": [
    "import logging, sys\n",
    "import congressionalrecord\n",
    "from congressionalrecord.govinfo.downloader import Downloader\n",
    "\n",
    "logger=logging.getLogger()\n",
    "logger.addHandler(logging.StreamHandler(sys.stdout))\n",
    "logger.setLevel(logging.INFO)"
   ]
  },
  {
   "cell_type": "code",
   "execution_count": null,
   "id": "8cf4bfd5",
   "metadata": {
    "scrolled": false
   },
   "outputs": [],
   "source": [
    "# It will save downloaded files into directories like\n",
    "#    /mnt/data/recent-data/output/2015/CREC-2015-01-20/\n",
    "# It will detect already downloaded data, and will not try to download it again\n",
    "\n",
    "start_date = '2015-01-01'\n",
    "end_date   = '2022-01-01'\n",
    "Downloader(start_date, end=end_date, do_mode='json', outpath='/mnt/data/recent-data/output')\n"
   ]
  }
 ],
 "metadata": {
  "kernelspec": {
   "display_name": "Python 3",
   "language": "python",
   "name": "python3"
  },
  "language_info": {
   "codemirror_mode": {
    "name": "ipython",
    "version": 3
   },
   "file_extension": ".py",
   "mimetype": "text/x-python",
   "name": "python",
   "nbconvert_exporter": "python",
   "pygments_lexer": "ipython3",
   "version": "3.9.7"
  }
 },
 "nbformat": 4,
 "nbformat_minor": 5
}
