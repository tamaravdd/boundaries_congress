{
 "cells": [
  {
   "cell_type": "markdown",
   "id": "5bb2d63d",
   "metadata": {},
   "source": [
    "# Download CREC data\n",
    "\n",
    "This script uses `congressional-record` package from https://github.com/artemyk/congressional-record/archive/refs/heads/master.zip .\n",
    "\n",
    "It will save downloaded files into directories like\n",
    "``[DATA_DIR]/recent-data/output/2015/CREC-2015-01-20/``\n",
    "It will detect already downloaded data, and will not try to download it again.\n",
    "\n",
    "**Importantly**, this script should be run several times in a row. The CREC website has intermittent errors, resulting in random failed downloads for some days. By running this script several times, it will detect those\n",
    "days that do not have downloaded data, and will retry downloading them.\n"
   ]
  },
  {
   "cell_type": "code",
   "execution_count": 1,
   "id": "3d454c6a",
   "metadata": {},
   "outputs": [
    {
     "ename": "ImportError",
     "evalue": "cannot import name 'DATA_DIR_DOWNLOADS' from 'config' (/data/boundaries/shared_code/boundaries_congress_git/parse_crec/config.py)",
     "output_type": "error",
     "traceback": [
      "\u001b[0;31m---------------------------------------------------------------------------\u001b[0m",
      "\u001b[0;31mImportError\u001b[0m                               Traceback (most recent call last)",
      "Input \u001b[0;32mIn [1]\u001b[0m, in \u001b[0;36m<cell line: 4>\u001b[0;34m()\u001b[0m\n\u001b[1;32m      2\u001b[0m \u001b[38;5;28;01mimport\u001b[39;00m \u001b[38;5;21;01mcongressionalrecord\u001b[39;00m\n\u001b[1;32m      3\u001b[0m \u001b[38;5;28;01mfrom\u001b[39;00m \u001b[38;5;21;01mcongressionalrecord\u001b[39;00m\u001b[38;5;21;01m.\u001b[39;00m\u001b[38;5;21;01mgovinfo\u001b[39;00m\u001b[38;5;21;01m.\u001b[39;00m\u001b[38;5;21;01mdownloader\u001b[39;00m \u001b[38;5;28;01mimport\u001b[39;00m Downloader\n\u001b[0;32m----> 4\u001b[0m \u001b[38;5;28;01mfrom\u001b[39;00m \u001b[38;5;21;01mconfig\u001b[39;00m \u001b[38;5;28;01mimport\u001b[39;00m DATA_DIR_DOWNLOADS\n\u001b[1;32m      6\u001b[0m logger\u001b[38;5;241m=\u001b[39mlogging\u001b[38;5;241m.\u001b[39mgetLogger()\n\u001b[1;32m      7\u001b[0m logger\u001b[38;5;241m.\u001b[39maddHandler(logging\u001b[38;5;241m.\u001b[39mStreamHandler(sys\u001b[38;5;241m.\u001b[39mstdout))\n",
      "\u001b[0;31mImportError\u001b[0m: cannot import name 'DATA_DIR_DOWNLOADS' from 'config' (/data/boundaries/shared_code/boundaries_congress_git/parse_crec/config.py)"
     ]
    }
   ],
   "source": [
    "import logging, sys\n",
    "import congressionalrecord\n",
    "from congressionalrecord.govinfo.downloader import Downloader\n",
    "from config import DATA_DIR_DOWNLOADS\n",
    "\n",
    "logger=logging.getLogger()\n",
    "logger.addHandler(logging.StreamHandler(sys.stdout))\n",
    "logger.setLevel(logging.INFO)"
   ]
  },
  {
   "cell_type": "code",
   "execution_count": null,
   "id": "8cf4bfd5",
   "metadata": {
    "scrolled": false
   },
   "outputs": [],
   "source": [
    "# It will save downloaded files into directories like\n",
    "#    [DATA_DIR]/recent-data/output/2015/CREC-2015-01-20/\n",
    "# It will detect already downloaded data, and will not try to download it again\n",
    "\n",
    "start_date = '2022-01-01'\n",
    "end_date   = '2022-08-01'\n",
    "Downloader(start_date, end=end_date, do_mode='json', outpath=DATA_DIR_DOWNLOADS+'/output')\n"
   ]
  }
 ],
 "metadata": {
  "kernelspec": {
   "display_name": "Python 3",
   "language": "python",
   "name": "python3"
  },
  "language_info": {
   "codemirror_mode": {
    "name": "ipython",
    "version": 3
   },
   "file_extension": ".py",
   "mimetype": "text/x-python",
   "name": "python",
   "nbconvert_exporter": "python",
   "pygments_lexer": "ipython3",
   "version": "3.8.8"
  }
 },
 "nbformat": 4,
 "nbformat_minor": 5
}
