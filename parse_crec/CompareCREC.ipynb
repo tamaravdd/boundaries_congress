{
 "cells": [
  {
   "cell_type": "code",
   "execution_count": null,
   "id": "2336658e",
   "metadata": {},
   "outputs": [],
   "source": [
    "import os\n",
    "import datetime\n",
    "import pandas as pd\n",
    "import json\n",
    "import pprint\n",
    "from collections import OrderedDict\n",
    "import re\n",
    "\n",
    "#listim = ['immigra', 'refugee', 'migra']\n",
    "#immigration_patt = re.compile(pattern=r\"\\b(\"+\"|\".join(listim)+\")\", flags=re.I)\n",
    "\n",
    "def remove_extra_spaces(s):\n",
    "    while '  ' in s:\n",
    "        s = s.replace('  ',' ')\n",
    "    return s.strip()\n",
    "\n",
    "def remove_punct(s):\n",
    "    s = s.replace(\".\", \" \")\n",
    "    s = s.replace(\",\", \" \")\n",
    "    s = s.replace(\"'\", \"\")\n",
    "    s = s.replace('\"', \" \")\n",
    "    s = s.replace('-', \"\")\n",
    "    s = s.replace('`', \"\")\n",
    "    s = s.replace(';', \" \")\n",
    "    s = s.replace('*', \" \")\n",
    "    s = s.replace('~', \" \")\n",
    "    s = s.replace('_', \" \")\n",
    "    s = s.replace('\\\\', \"\")\n",
    "    s = s.replace('•', \" \")\n",
    "    \n",
    "    return s.strip()\n",
    "\n",
    "def stripspeech(s):\n",
    "    s = s.replace('§', 'sec')\n",
    "    s = remove_extra_spaces(remove_punct(s).lower())\n",
    "    s = s.replace(' ', '')\n",
    "    s = s.replace('9111', '911')\n",
    "    s = s.replace('9/11', '911')\n",
    "    return s\n"
   ]
  },
  {
   "cell_type": "code",
   "execution_count": null,
   "id": "c2e0e21c",
   "metadata": {},
   "outputs": [],
   "source": [
    "df=pd.read_hdf('./crec2015to2021.hdf')"
   ]
  },
  {
   "cell_type": "code",
   "execution_count": null,
   "id": "3562c90a",
   "metadata": {},
   "outputs": [],
   "source": [
    "set(df[df.speech.str.lower().str.contains('the house stands adjourned')].speaker)"
   ]
  },
  {
   "cell_type": "code",
   "execution_count": null,
   "id": "54879b59",
   "metadata": {},
   "outputs": [],
   "source": [
    "# Compare to old data\n",
    "\n",
    "#valid_speakers = ['mr. ','the ','ms. ','mrs.', 'dr. ','miss']\n",
    "valid_speakers = ['mr. ','ms. ','mrs.', 'dr. ','miss'] # Drop \"The speaker\", \"The clerk\", etc\n",
    "\n",
    "df_old=pd.read_csv('../created_data/daily_114.csv',sep='\\t', index_col='speech_id')\n",
    "df_old=df_old.loc[df_old.chamber.isin(['H','S'])]\n",
    "\n",
    "df_old=df_old[df_old.speaker.str.lower().str[0:4].isin(valid_speakers)]\n",
    "\n",
    "\n",
    "# Check that we are not missing speeches in new data\n",
    "def short_filter(s):\n",
    "    return len(stripspeech(s))>=1500\n",
    "\n",
    "for unique_date in sorted(set(df_old.date)):\n",
    "    a = df_old[df_old.date==unique_date]\n",
    "    a = a[a.speech.apply(short_filter)]\n",
    "    b = df[df.date==unique_date]\n",
    "    b = b[b.speech.apply(short_filter)]\n",
    "    \n",
    "    if len(a) > len(b): # on this day, there are more speeches in old dataset than new dataset\n",
    "        print(unique_date, len(a), len(b))\n",
    "        if False and unique_date == '2015-04-17':\n",
    "            print(a)\n",
    "            print(a.iloc[0].speech)\n",
    "            "
   ]
  },
  {
   "cell_type": "code",
   "execution_count": null,
   "id": "fcd8a63a",
   "metadata": {},
   "outputs": [],
   "source": [
    "import edlib\n",
    "\n",
    "def match_speeches(a,b):\n",
    "    match1 = { rndx1 : None for rndx1, r1 in a.iterrows() }\n",
    "    match2 = { rndx2 : None for rndx2, r2 in b.iterrows() }\n",
    "\n",
    "    def dfunc(r1,r2):\n",
    "        return edlib.align(stripspeech(r1.speech), stripspeech(r2.speech))['editDistance']\n",
    "\n",
    "    for rndx1, r1 in a.iterrows():\n",
    "        for rndx2, r2 in b.iterrows():\n",
    "            d=dfunc(r1,r2)\n",
    "            if d<20:\n",
    "                match1[rndx1]=rndx2\n",
    "                match2[rndx2]=rndx1\n",
    "                break\n",
    "\n",
    "    for rndx1, r1 in a.iterrows():\n",
    "        if match1[rndx1] is None:\n",
    "            print('No match to speech in old dataset')\n",
    "            print(r1)\n",
    "            print()\n",
    "\n",
    "    for rndx2, r2 in b.iterrows():\n",
    "        if match2[rndx2] is None:\n",
    "            print('No match to speech in new dataset')\n",
    "            print(r2)\n",
    "            print()\n"
   ]
  }
 ],
 "metadata": {
  "kernelspec": {
   "display_name": "Python 3",
   "language": "python",
   "name": "python3"
  },
  "language_info": {
   "codemirror_mode": {
    "name": "ipython",
    "version": 3
   },
   "file_extension": ".py",
   "mimetype": "text/x-python",
   "name": "python",
   "nbconvert_exporter": "python",
   "pygments_lexer": "ipython3",
   "version": "3.6.13"
  }
 },
 "nbformat": 4,
 "nbformat_minor": 5
}
